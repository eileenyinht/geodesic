{
 "cells": [
  {
   "cell_type": "code",
   "execution_count": 2,
   "metadata": {},
   "outputs": [],
   "source": [
    "import igl\n",
    "import scipy as sp\n",
    "import numpy as np\n",
    "from meshplot import plot, subplot, interact\n",
    "\n",
    "import os\n",
    "root_folder = os.getcwd()\n",
    "#root_folder = os.path.join(os.getcwd(), \"tutorial\")"
   ]
  },
  {
   "cell_type": "code",
   "execution_count": 3,
   "metadata": {},
   "outputs": [
    {
     "name": "stdout",
     "output_type": "stream",
     "text": [
      "********************************************************************************\n",
      "WARNING: Imported VTK version (8.1) does not match the one used\n",
      "         to build the TVTK classes (8.2). This may cause problems.\n",
      "         Please rebuild TVTK.\n",
      "********************************************************************************\n",
      "\n",
      "v,vs vt d:  (2503, 3) [0] (2503,) (2503,)\n",
      "heat:  (2503,)\n"
     ]
    },
    {
     "data": {
      "application/vnd.jupyter.widget-view+json": {
       "model_id": "08680a8cea154e19ac570dd732845fd9",
       "version_major": 2,
       "version_minor": 0
      },
      "text/plain": [
       "Renderer(camera=PerspectiveCamera(children=(DirectionalLight(color='white', intensity=0.6, position=(-0.016800…"
      ]
     },
     "metadata": {},
     "output_type": "display_data"
    },
    {
     "data": {
      "text/plain": [
       "<meshplot.Viewer.Viewer at 0x1d3f99938d0>"
      ]
     },
     "execution_count": 3,
     "metadata": {},
     "output_type": "execute_result"
    }
   ],
   "source": [
    "v, f = igl.read_triangle_mesh(os.path.join(root_folder, \"data\", \"bunny.obj\"))\n",
    "#import matplotlib.pyplot as plt\n",
    "## Select a vertex from which the distances should be calculated\n",
    "vs = np.array([0])\n",
    "##All vertices are the targets\n",
    "vt = np.arange(v.shape[0])\n",
    "from tvtk.api import tvtk\n",
    "from tvtkfunc import ivtk_scene\n",
    "import matplotlib.pyplot as plt\n",
    "d = igl.exact_geodesic(v, f, vs, vt)#, fs, ft)\n",
    "print(\"v,vs vt d: \", v.shape,vs,vt.shape, d.shape)\n",
    "strip_size = 0.1\n",
    "##The function should be 1 on each integer coordinate\n",
    "c = np.abs(np.sin((d / strip_size * np.pi)))\n",
    "#plot(v, f, c, shading={\"wireframe\": True})\n",
    "heat=igl.heat_geodesic(v, f,1.0, vs)\n",
    "print(\"heat: \", heat.shape)\n",
    "plot(v,f,heat/strip_size * np.pi, shading={\"wireframe\": False})\n",
    "#c = plt.contour(v[:,0],v[:,1],v[:,2],heat,8,colors='black')"
   ]
  },
  {
   "cell_type": "code",
   "execution_count": 7,
   "metadata": {},
   "outputs": [],
   "source": [
    "from tvtk.tools import tvtk_doc\n",
    "#tvtk_doc.main()"
   ]
  },
  {
   "cell_type": "code",
   "execution_count": 8,
   "metadata": {
    "scrolled": true
   },
   "outputs": [],
   "source": [
    "import pyvista as pv\n",
    "from pyvista import examples"
   ]
  },
  {
   "cell_type": "code",
   "execution_count": 9,
   "metadata": {
    "scrolled": true
   },
   "outputs": [],
   "source": [
    "# sphinx_gallery_thumbnail_number = 1\n",
    "import pyvista as pv\n",
    "from pyvista import examples\n",
    "\n",
    "# Load a global topography surface and decimate it\n",
    "bunny=pv.read(os.path.join(root_folder, \"data\", \"bunny.obj\"))\n",
    "#cpos = bunny.plot(show_edges=True)\n",
    "#land = examples.download_topo_land().triangulate().decimate(0.98)\n",
    "#print(\"land: \", land.shape)"
   ]
  },
  {
   "cell_type": "code",
   "execution_count": 10,
   "metadata": {},
   "outputs": [],
   "source": [
    "#plotter = pv.Plotter(off_screen=True)\n",
    "#plotter.add_mesh(bunny)\n",
    "#plotter.show(screenshot=\"myscreenshot.png\")"
   ]
  },
  {
   "cell_type": "code",
   "execution_count": 11,
   "metadata": {},
   "outputs": [
    {
     "name": "stdout",
     "output_type": "stream",
     "text": [
      "PolyData (0x1d387289ca8)\n",
      "  N Cells:\t4968\n",
      "  N Points:\t2503\n",
      "  X Bounds:\t-9.438e-02, 6.078e-02\n",
      "  Y Bounds:\t3.331e-02, 1.870e-01\n",
      "  Z Bounds:\t-6.168e-02, 5.871e-02\n",
      "  N Arrays:\t0\n",
      "\n"
     ]
    },
    {
     "data": {
      "text/plain": [
       "pyvista_ndarray([[-0.00341018,  0.13031957,  0.02175437],\n",
       "                 [-0.08171916,  0.15250145,  0.02965609],\n",
       "                 [-0.03054348,  0.12477885,  0.00109834],\n",
       "                 ...,\n",
       "                 [-0.01389549,  0.16787168, -0.02189723],\n",
       "                 [-0.069413  ,  0.15121847, -0.04453854],\n",
       "                 [-0.0550398 ,  0.0573097 ,  0.0169909 ]], dtype=float32)"
      ]
     },
     "execution_count": 11,
     "metadata": {},
     "output_type": "execute_result"
    }
   ],
   "source": [
    "print(bunny)\n",
    "bunny.points"
   ]
  },
  {
   "cell_type": "code",
   "execution_count": 15,
   "metadata": {},
   "outputs": [
    {
     "name": "stdout",
     "output_type": "stream",
     "text": [
      "PolyData (0x1d387289ca8)\n",
      "  N Cells:\t4968\n",
      "  N Points:\t2503\n",
      "  X Bounds:\t-9.438e-02, 6.078e-02\n",
      "  Y Bounds:\t3.331e-02, 1.870e-01\n",
      "  Z Bounds:\t-6.168e-02, 5.871e-02\n",
      "  N Arrays:\t0\n",
      "\n",
      "a PolyData (0x1d387723be8)\n",
      "  N Cells:\t1\n",
      "  N Points:\t10\n",
      "  X Bounds:\t-8.172e-02, -4.223e-02\n",
      "  Y Bounds:\t1.525e-01, 1.721e-01\n",
      "  Z Bounds:\t-4.180e-03, 2.966e-02\n",
      "  N Arrays:\t1\n",
      "\n"
     ]
    }
   ],
   "source": [
    "#make the geodesic path\n",
    "\n",
    "#start=bunny.points([0])\n",
    "print(bunny)\n",
    "start=1\n",
    "end=10\n",
    "#start=bunny.find_closest_point((-0.00341018,  0.13031957,  0.02175437))\n",
    "#end=bunny.find_closest_point((-0.03054348,  0.12477885,  0.00109834))\n",
    "a = bunny.geodesic(start,end)\n",
    "print(\"a\",a)"
   ]
  },
  {
   "cell_type": "code",
   "execution_count": 13,
   "metadata": {},
   "outputs": [
    {
     "data": {
      "text/plain": [
       "[(0.2613421674261341, 0.38829593503871057, 0.2766607138703117),\n",
       " (-0.016800811514258385, 0.1101529560983181, -0.0014822650700807571),\n",
       " (0.0, 0.0, 1.0)]"
      ]
     },
     "execution_count": 13,
     "metadata": {},
     "output_type": "execute_result"
    }
   ],
   "source": [
    "#show geodesic path\n",
    "\n",
    "p = pv.Plotter(notebook=0)\n",
    "p.add_mesh(a, line_width=10, color=\"red\", label=\"Geodesic Path\")\n",
    "p.add_mesh(bunny, show_edges=True)\n",
    "p.add_legend()\n",
    "#p.camera_position = [(3.5839785524183934, 2.3915238111304924, 1.3993738227478327),\n",
    "# (-0.06842917033182638, 0.15467201157962263, -0.07331693636555875),\n",
    "# (-0.34851770951584765, -0.04724188391065845, 0.9361108965066047)]\n",
    "\n",
    "p.show()\n",
    "#p.show(screenshot=\"myscreenshot2.png\")"
   ]
  },
  {
   "cell_type": "code",
   "execution_count": null,
   "metadata": {},
   "outputs": [],
   "source": [
    "#geodesic path sample\n",
    "\n",
    "print(land)\n",
    "cape_town = land.find_closest_point((0.790801, 0.264598, -0.551942))\n",
    "dubai = land.find_closest_point((0.512642, 0.745898, 0.425255))\n",
    "bangkok = land.find_closest_point((-0.177077, 0.955419, 0.236273))\n",
    "rome = land.find_closest_point((0.718047, 0.163038, 0.676684))\n",
    "\n",
    "a = land.geodesic(cape_town, dubai)\n",
    "b = land.geodesic(cape_town, bangkok)\n",
    "c = land.geodesic(cape_town, rome)"
   ]
  },
  {
   "cell_type": "code",
   "execution_count": null,
   "metadata": {},
   "outputs": [],
   "source": [
    "#geodesic path sample\n",
    "p = pv.Plotter(notebook=0)\n",
    "p.add_mesh(a+b+c, line_width=10, color=\"red\", label=\"Geodesic Path\")\n",
    "p.add_mesh(land, show_edges=True)\n",
    "p.add_legend()\n",
    "p.camera_position = [(3.5839785524183934, 2.3915238111304924, 1.3993738227478327),\n",
    " (-0.06842917033182638, 0.15467201157962263, -0.07331693636555875),\n",
    " (-0.34851770951584765, -0.04724188391065845, 0.9361108965066047)]\n",
    "\n",
    "p.show()"
   ]
  },
  {
   "cell_type": "code",
   "execution_count": 22,
   "metadata": {},
   "outputs": [
    {
     "name": "stdout",
     "output_type": "stream",
     "text": [
      "[[-0.04187911, 0.05616439, 0.0397967], [-0.039168682744439326, 0.06265710844511867, 0.04128166346870062], [-0.03903374628625666, 0.06300099417940763, 0.041323943508242124], [-0.03880260753771097, 0.0636040576085747, 0.041382752919219695], [-0.036910260830655156, 0.06871367982243992, 0.04163342522798677], [-0.03587791577969314, 0.07154954334187932, 0.041667947916244], [-0.034249280261655995, 0.07613798017807437, 0.04151828396760317], [-0.03371547551410903, 0.07750604141210131, 0.04163455358472012], [-0.03314642006982803, 0.07921684991706873, 0.041540083998783665], [-0.032323389148956556, 0.08143816801020662, 0.041831787621854674], [-0.03181705582260499, 0.0828221662095307, 0.0421412281180238], [-0.030906936405697492, 0.08563776697035294, 0.0433888941167183], [-0.030768700213106893, 0.08616830906967411, 0.04373347614423604], [-0.02924191, 0.09045336, 0.04423661], [-0.027942615849998586, 0.09380530710656396, 0.044895942526305174], [-0.02733872499091001, 0.0952508938475532, 0.04444541677629196], [-0.02663932073957269, 0.09695917068046343, 0.04405061251717069], [-0.026053220989184757, 0.09856603398487443, 0.044139692644927044], [-0.025891406383140643, 0.0989618036626883, 0.04409068302496435], [-0.025656324849303316, 0.09947298068348552, 0.04393689517224577], [-0.0239619824414134, 0.10336417184498052, 0.04305796946133888], [-0.0212898108648988, 0.10871737348572487, 0.040979899869954345], [-0.021041495006491773, 0.10920385339311432, 0.04077333302663811], [-0.020998996412785416, 0.10929613888182334, 0.040750455195071325], [-0.020885355799032373, 0.10951823023530924, 0.04066229706723203], [-0.02047092526207369, 0.11026398118928968, 0.04029198336914935], [-0.017703828627581276, 0.11530163884956753, 0.03785793943589032], [-0.017147556333631773, 0.11617121325697204, 0.03728003276592391], [-0.015299368929727452, 0.11965957317582879, 0.03560317030113329], [-0.014507491621811476, 0.12059398996515662, 0.034714177157665525], [-0.012937695676820692, 0.12281442701934525, 0.03302105103519875], [-0.011973001970347277, 0.12382633587316738, 0.03192784840989576], [-0.009112254426036264, 0.12671215044746104, 0.028661869938384057], [-0.0074388185604822, 0.12807218912579024, 0.026671679626955654], [-0.005744356481388676, 0.12926717968728804, 0.024626851542704033], [-0.00341018, 0.13031957, 0.02175437]]\n"
     ]
    }
   ],
   "source": [
    "import numpy\n",
    "from geodesic import Mesh\n",
    "from geodesic import GeodesicAlgorithmExact\n",
    "\n",
    "#temp = numpy.loadtxt(\"flat_triangular_mesh.txt\", skiprows=1)\n",
    "#vertices = temp[0:121].astype(numpy.float64)\n",
    "#triangles = temp[121:321].astype(numpy.int32)\n",
    "\n",
    "mesh=Mesh()\n",
    "#mesh.initialize_mesh_data(vertices, triangles); # create internal mesh data structure including edges\n",
    "mesh.initialize_mesh_data(v, f); # create internal mesh data structure including edges\n",
    "algorithm=GeodesicAlgorithmExact(mesh)\n",
    "path=algorithm.geodesic(0, 100)\n",
    "algorithm.print_statistics()\n",
    "print(path)"
   ]
  },
  {
   "cell_type": "code",
   "execution_count": 32,
   "metadata": {},
   "outputs": [
    {
     "data": {
      "application/vnd.jupyter.widget-view+json": {
       "model_id": "77ca3ac48b8d4e16a08f00a7762a7f4e",
       "version_major": 2,
       "version_minor": 0
      },
      "text/plain": [
       "Renderer(camera=PerspectiveCamera(children=(DirectionalLight(color='white', intensity=0.6, position=(-0.016800…"
      ]
     },
     "metadata": {},
     "output_type": "display_data"
    },
    {
     "name": "stdout",
     "output_type": "stream",
     "text": [
      "(36, 3)\n"
     ]
    }
   ],
   "source": [
    "import numpy as np\n",
    "import meshplot as mp\n",
    "\n",
    "p = mp.plot(v, f, return_plot=True)\n",
    "patharray = np.array(path)\n",
    "#p.add_edges(v_box, f_box, shading={\"line_color\": \"red\"});\n",
    "p.add_points(patharray, shading={\"point_color\": \"green\"})\n",
    "print(patharray.shape)\n"
   ]
  },
  {
   "cell_type": "code",
   "execution_count": 47,
   "metadata": {},
   "outputs": [
    {
     "name": "stdout",
     "output_type": "stream",
     "text": [
      "36\n"
     ]
    },
    {
     "data": {
      "application/vnd.jupyter.widget-view+json": {
       "model_id": "5e16d692fdfd4efd8a84c059fde001dd",
       "version_major": 2,
       "version_minor": 0
      },
      "text/plain": [
       "Renderer(camera=PerspectiveCamera(children=(DirectionalLight(color='white', intensity=0.6, position=(-0.016800…"
      ]
     },
     "metadata": {},
     "output_type": "display_data"
    },
    {
     "name": "stdout",
     "output_type": "stream",
     "text": [
      "(36, 3)\n"
     ]
    }
   ],
   "source": [
    "n=patharray.shape[0]\n",
    "edge=np.array([[0,1]])\n",
    "for i in range(1,n-1,1):\n",
    "    u=np.array([i,i+1])\n",
    "    edge=np.r_[edge, [u]]\n",
    "print(n)\n",
    "#print(edge)\n",
    "p = mp.plot(v, f, return_plot=True)\n",
    "patharray = np.array(path)\n",
    "p.add_edges(patharray, edge, shading={\"line_color\": \"red\"});\n",
    "p.add_points(patharray, shading={\"point_color\": \"green\"})\n",
    "print(patharray.shape)\n"
   ]
  },
  {
   "cell_type": "code",
   "execution_count": 29,
   "metadata": {},
   "outputs": [
    {
     "data": {
      "application/vnd.jupyter.widget-view+json": {
       "model_id": "595ad738dbe94b71b228a20e3e4f3191",
       "version_major": 2,
       "version_minor": 0
      },
      "text/plain": [
       "Renderer(camera=PerspectiveCamera(children=(DirectionalLight(color='white', intensity=0.6, position=(-0.016800…"
      ]
     },
     "metadata": {},
     "output_type": "display_data"
    },
    {
     "name": "stdout",
     "output_type": "stream",
     "text": [
      "vbox (8, 3)\n"
     ]
    }
   ],
   "source": [
    "m = np.min(v, axis=0)\n",
    "ma = np.max(v, axis=0)\n",
    "\n",
    "# Corners of the bounding box\n",
    "v_box = np.array([[m[0], m[1], m[2]], [ma[0], m[1], m[2]], [ma[0], ma[1], m[2]], [m[0], ma[1], m[2]],\n",
    "                  [m[0], m[1], ma[2]], [ma[0], m[1], ma[2]], [ma[0], ma[1], ma[2]], [m[0], ma[1], ma[2]]])\n",
    "\n",
    "# Edges of the bounding box\n",
    "f_box = np.array([[0, 1], [1, 2], [2, 3], [3, 0], [4, 5], [5, 6], [6, 7], \n",
    "                  [7, 4], [0, 4], [1, 5], [2, 6], [7, 3]], dtype=np.int)\n",
    "\n",
    "p = mp.plot(v, f, return_plot=True)\n",
    "\n",
    "p.add_edges(v_box, f_box, shading={\"line_color\": \"red\"});\n",
    "p.add_points(v_box, shading={\"point_color\": \"green\"})\n",
    "print(\"vbox\",v_box.shape)"
   ]
  },
  {
   "cell_type": "code",
   "execution_count": null,
   "metadata": {},
   "outputs": [],
   "source": []
  }
 ],
 "metadata": {
  "kernelspec": {
   "display_name": "Python 3",
   "language": "python",
   "name": "python3"
  },
  "language_info": {
   "codemirror_mode": {
    "name": "ipython",
    "version": 3
   },
   "file_extension": ".py",
   "mimetype": "text/x-python",
   "name": "python",
   "nbconvert_exporter": "python",
   "pygments_lexer": "ipython3",
   "version": "3.6.5"
  }
 },
 "nbformat": 4,
 "nbformat_minor": 2
}
