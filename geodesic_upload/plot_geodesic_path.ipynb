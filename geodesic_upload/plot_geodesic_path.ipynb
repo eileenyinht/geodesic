{
 "cells": [
  {
   "cell_type": "code",
   "execution_count": null,
   "metadata": {},
   "outputs": [],
   "source": [
    "%matplotlib inline"
   ]
  },
  {
   "cell_type": "markdown",
   "metadata": {},
   "source": [
    "\n",
    "# Plotting Geodesic Paths\n",
    "\n",
    "\n",
    "This will plot a geodesic path between two vertices on the cortical surface.\n",
    "This path is based on geodesic distances across the surface. The path starts\n",
    "at the given endpoint and selects the neighbor of that point in the surface\n",
    "map that is closest to the other endpoint. This process continues iteratilvely\n",
    "until the last vertex in the path is the endpoint you gave to it.\n",
    "\n",
    "All you need to do is supply a surface object and two vertices on that surface\n",
    "and you can find the geodesic path. This script additionally makes a plot to\n",
    "show all of the vertices listed in the path.\n"
   ]
  },
  {
   "cell_type": "code",
   "execution_count": 1,
   "metadata": {},
   "outputs": [
    {
     "ename": "ModuleNotFoundError",
     "evalue": "No module named 'cortex'",
     "traceback": [
      "\u001b[1;31m---------------------------------------------------------------------------\u001b[0m",
      "\u001b[1;31mModuleNotFoundError\u001b[0m                       Traceback (most recent call last)",
      "\u001b[1;32m<ipython-input-1-ea5b6dd7bb85>\u001b[0m in \u001b[0;36m<module>\u001b[1;34m()\u001b[0m\n\u001b[1;32m----> 1\u001b[1;33m \u001b[1;32mimport\u001b[0m \u001b[0mcortex\u001b[0m\u001b[1;33m\u001b[0m\u001b[0m\n\u001b[0m\u001b[0;32m      2\u001b[0m \u001b[1;32mimport\u001b[0m \u001b[0mcortex\u001b[0m\u001b[1;33m.\u001b[0m\u001b[0mpolyutils\u001b[0m\u001b[1;33m\u001b[0m\u001b[0m\n\u001b[0;32m      3\u001b[0m \u001b[1;32mimport\u001b[0m \u001b[0mnumpy\u001b[0m \u001b[1;32mas\u001b[0m \u001b[0mnp\u001b[0m\u001b[1;33m\u001b[0m\u001b[0m\n\u001b[0;32m      4\u001b[0m \u001b[1;32mimport\u001b[0m \u001b[0mmatplotlib\u001b[0m\u001b[1;33m.\u001b[0m\u001b[0mpyplot\u001b[0m \u001b[1;32mas\u001b[0m \u001b[0mplt\u001b[0m\u001b[1;33m\u001b[0m\u001b[0m\n\u001b[0;32m      5\u001b[0m \u001b[1;33m\u001b[0m\u001b[0m\n",
      "\u001b[1;31mModuleNotFoundError\u001b[0m: No module named 'cortex'"
     ],
     "output_type": "error"
    }
   ],
   "source": [
    "import cortex\n",
    "import cortex.polyutils\n",
    "import numpy as np\n",
    "import matplotlib.pyplot as plt\n",
    "\n",
    "subject = \"S1\"\n",
    "\n",
    "# First we need to import the surfaces for this subject\n",
    "surfs = [cortex.polyutils.Surface(*d)\n",
    "         for d in cortex.db.get_surf(subject, \"fiducial\")]\n",
    "numl = surfs[0].pts.shape[0]\n",
    "\n",
    "# Now we need to pick the start and end points of the line we will draw\n",
    "pt_a = 100\n",
    "pt_b = 50000\n",
    "\n",
    "# Then we find the geodesic path between these points\n",
    "path = surfs[0].geodesic_path(pt_a, pt_b)\n",
    "\n",
    "# In order to plot this on the cortical surface, we need an array that is the\n",
    "# same size as the number of vertices in the left hemisphere\n",
    "path_data = np.zeros(numl)\n",
    "for v in path:\n",
    "    path_data[v] = 1\n",
    "\n",
    "# And now plot these distances onto the cortical surface\n",
    "path_verts = cortex.Vertex(path_data, subject, cmap=\"Blues_r\")\n",
    "cortex.quickshow(path_verts, with_colorbar=False)\n",
    "plt.show()"
   ]
  },
  {
   "cell_type": "code",
   "execution_count": null,
   "metadata": {},
   "outputs": [],
   "source": []
  }
 ],
 "metadata": {
  "kernelspec": {
   "display_name": "Python 3",
   "language": "python",
   "name": "python3"
  },
  "language_info": {
   "codemirror_mode": {
    "name": "ipython",
    "version": 3
   },
   "file_extension": ".py",
   "mimetype": "text/x-python",
   "name": "python",
   "nbconvert_exporter": "python",
   "pygments_lexer": "ipython3",
   "version": "3.6.5"
  }
 },
 "nbformat": 4,
 "nbformat_minor": 1
}
